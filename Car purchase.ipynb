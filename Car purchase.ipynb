{
  "nbformat": 4,
  "nbformat_minor": 0,
  "metadata": {
    "colab": {
      "provenance": [],
      "authorship_tag": "ABX9TyPCUBqoNj4rKChkFXt/ZyKu",
      "include_colab_link": true
    },
    "kernelspec": {
      "name": "python3",
      "display_name": "Python 3"
    },
    "language_info": {
      "name": "python"
    }
  },
  "cells": [
    {
      "cell_type": "markdown",
      "metadata": {
        "id": "view-in-github",
        "colab_type": "text"
      },
      "source": [
        "<a href=\"https://colab.research.google.com/github/smsmuruga/Sample/blob/main/Car%20purchase.ipynb\" target=\"_parent\"><img src=\"https://colab.research.google.com/assets/colab-badge.svg\" alt=\"Open In Colab\"/></a>"
      ]
    },
    {
      "cell_type": "code",
      "execution_count": null,
      "metadata": {
        "id": "ywt6ImpscwY4"
      },
      "outputs": [],
      "source": [
        "import matplotlib.pyplot"
      ]
    },
    {
      "cell_type": "markdown",
      "source": [
        "# New section"
      ],
      "metadata": {
        "id": "FBMf6N8xdTss"
      }
    },
    {
      "cell_type": "code",
      "source": [
        "import matplotlib.pyplot"
      ],
      "metadata": {
        "id": "R-LTDnJ7ii3_"
      },
      "execution_count": null,
      "outputs": []
    },
    {
      "cell_type": "code",
      "source": [
        "import pandas_datareader"
      ],
      "metadata": {
        "id": "p-lxteSFillk"
      },
      "execution_count": null,
      "outputs": []
    },
    {
      "cell_type": "code",
      "source": [
        "import matplotlib.pyplot as plt"
      ],
      "metadata": {
        "id": "fZfJNcSXjQcW"
      },
      "execution_count": null,
      "outputs": []
    },
    {
      "cell_type": "code",
      "source": [
        "import numpy as np"
      ],
      "metadata": {
        "id": "Sjm0B1jHkGZo"
      },
      "execution_count": null,
      "outputs": []
    },
    {
      "cell_type": "code",
      "source": [
        "import pandas as pd"
      ],
      "metadata": {
        "id": "eGPw5w68kR8c"
      },
      "execution_count": null,
      "outputs": []
    },
    {
      "cell_type": "code",
      "source": [
        "data1=pd.read_csv('Car_Purchasing_Data.csv')"
      ],
      "metadata": {
        "id": "XDZydfFEkWmh"
      },
      "execution_count": null,
      "outputs": []
    },
    {
      "cell_type": "code",
      "source": [
        "#data1"
      ],
      "metadata": {
        "id": "Eex_s0JSkj1_"
      },
      "execution_count": null,
      "outputs": []
    },
    {
      "cell_type": "code",
      "source": [
        "data1.head()"
      ],
      "metadata": {
        "colab": {
          "base_uri": "https://localhost:8080/",
          "height": 392
        },
        "id": "7LwMqbxOkqKR",
        "outputId": "6fbec8bf-4508-4ff7-dff9-6a4398366242"
      },
      "execution_count": null,
      "outputs": [
        {
          "output_type": "execute_result",
          "data": {
            "text/plain": [
              "     Customer Name                                    Customer e-mail Country  \\\n",
              "0    Martina Avila  cubilia.Curae.Phasellus@quisaccumsanconvallis.edu     USA   \n",
              "1    Harlan Barnes                                eu.dolor@diam.co.uk     USA   \n",
              "2  Naomi Rodriquez  vulputate.mauris.sagittis@ametconsectetueradip...     USA   \n",
              "3  Jade Cunningham                            malesuada@dignissim.com     USA   \n",
              "4     Cedric Leach     felis.ullamcorper.viverra@egetmollislectus.net     USA   \n",
              "\n",
              "   Gender  Age  Annual Salary  Credit Card Debt    Net Worth  \\\n",
              "0       0   42    62812.09301      11609.380910  238961.2505   \n",
              "1       0   41    66646.89292       9572.957136  530973.9078   \n",
              "2       1   43    53798.55112      11160.355060  638467.1773   \n",
              "3       1   58    79370.03798      14426.164850  548599.0524   \n",
              "4       1   57    59729.15130       5358.712177  560304.0671   \n",
              "\n",
              "   Car Purchase Amount  \n",
              "0          35321.45877  \n",
              "1          45115.52566  \n",
              "2          42925.70921  \n",
              "3          67422.36313  \n",
              "4          55915.46248  "
            ],
            "text/html": [
              "\n",
              "  <div id=\"df-93e78310-a263-4e90-aba6-073af1d6d04e\">\n",
              "    <div class=\"colab-df-container\">\n",
              "      <div>\n",
              "<style scoped>\n",
              "    .dataframe tbody tr th:only-of-type {\n",
              "        vertical-align: middle;\n",
              "    }\n",
              "\n",
              "    .dataframe tbody tr th {\n",
              "        vertical-align: top;\n",
              "    }\n",
              "\n",
              "    .dataframe thead th {\n",
              "        text-align: right;\n",
              "    }\n",
              "</style>\n",
              "<table border=\"1\" class=\"dataframe\">\n",
              "  <thead>\n",
              "    <tr style=\"text-align: right;\">\n",
              "      <th></th>\n",
              "      <th>Customer Name</th>\n",
              "      <th>Customer e-mail</th>\n",
              "      <th>Country</th>\n",
              "      <th>Gender</th>\n",
              "      <th>Age</th>\n",
              "      <th>Annual Salary</th>\n",
              "      <th>Credit Card Debt</th>\n",
              "      <th>Net Worth</th>\n",
              "      <th>Car Purchase Amount</th>\n",
              "    </tr>\n",
              "  </thead>\n",
              "  <tbody>\n",
              "    <tr>\n",
              "      <th>0</th>\n",
              "      <td>Martina Avila</td>\n",
              "      <td>cubilia.Curae.Phasellus@quisaccumsanconvallis.edu</td>\n",
              "      <td>USA</td>\n",
              "      <td>0</td>\n",
              "      <td>42</td>\n",
              "      <td>62812.09301</td>\n",
              "      <td>11609.380910</td>\n",
              "      <td>238961.2505</td>\n",
              "      <td>35321.45877</td>\n",
              "    </tr>\n",
              "    <tr>\n",
              "      <th>1</th>\n",
              "      <td>Harlan Barnes</td>\n",
              "      <td>eu.dolor@diam.co.uk</td>\n",
              "      <td>USA</td>\n",
              "      <td>0</td>\n",
              "      <td>41</td>\n",
              "      <td>66646.89292</td>\n",
              "      <td>9572.957136</td>\n",
              "      <td>530973.9078</td>\n",
              "      <td>45115.52566</td>\n",
              "    </tr>\n",
              "    <tr>\n",
              "      <th>2</th>\n",
              "      <td>Naomi Rodriquez</td>\n",
              "      <td>vulputate.mauris.sagittis@ametconsectetueradip...</td>\n",
              "      <td>USA</td>\n",
              "      <td>1</td>\n",
              "      <td>43</td>\n",
              "      <td>53798.55112</td>\n",
              "      <td>11160.355060</td>\n",
              "      <td>638467.1773</td>\n",
              "      <td>42925.70921</td>\n",
              "    </tr>\n",
              "    <tr>\n",
              "      <th>3</th>\n",
              "      <td>Jade Cunningham</td>\n",
              "      <td>malesuada@dignissim.com</td>\n",
              "      <td>USA</td>\n",
              "      <td>1</td>\n",
              "      <td>58</td>\n",
              "      <td>79370.03798</td>\n",
              "      <td>14426.164850</td>\n",
              "      <td>548599.0524</td>\n",
              "      <td>67422.36313</td>\n",
              "    </tr>\n",
              "    <tr>\n",
              "      <th>4</th>\n",
              "      <td>Cedric Leach</td>\n",
              "      <td>felis.ullamcorper.viverra@egetmollislectus.net</td>\n",
              "      <td>USA</td>\n",
              "      <td>1</td>\n",
              "      <td>57</td>\n",
              "      <td>59729.15130</td>\n",
              "      <td>5358.712177</td>\n",
              "      <td>560304.0671</td>\n",
              "      <td>55915.46248</td>\n",
              "    </tr>\n",
              "  </tbody>\n",
              "</table>\n",
              "</div>\n",
              "      <button class=\"colab-df-convert\" onclick=\"convertToInteractive('df-93e78310-a263-4e90-aba6-073af1d6d04e')\"\n",
              "              title=\"Convert this dataframe to an interactive table.\"\n",
              "              style=\"display:none;\">\n",
              "        \n",
              "  <svg xmlns=\"http://www.w3.org/2000/svg\" height=\"24px\"viewBox=\"0 0 24 24\"\n",
              "       width=\"24px\">\n",
              "    <path d=\"M0 0h24v24H0V0z\" fill=\"none\"/>\n",
              "    <path d=\"M18.56 5.44l.94 2.06.94-2.06 2.06-.94-2.06-.94-.94-2.06-.94 2.06-2.06.94zm-11 1L8.5 8.5l.94-2.06 2.06-.94-2.06-.94L8.5 2.5l-.94 2.06-2.06.94zm10 10l.94 2.06.94-2.06 2.06-.94-2.06-.94-.94-2.06-.94 2.06-2.06.94z\"/><path d=\"M17.41 7.96l-1.37-1.37c-.4-.4-.92-.59-1.43-.59-.52 0-1.04.2-1.43.59L10.3 9.45l-7.72 7.72c-.78.78-.78 2.05 0 2.83L4 21.41c.39.39.9.59 1.41.59.51 0 1.02-.2 1.41-.59l7.78-7.78 2.81-2.81c.8-.78.8-2.07 0-2.86zM5.41 20L4 18.59l7.72-7.72 1.47 1.35L5.41 20z\"/>\n",
              "  </svg>\n",
              "      </button>\n",
              "      \n",
              "  <style>\n",
              "    .colab-df-container {\n",
              "      display:flex;\n",
              "      flex-wrap:wrap;\n",
              "      gap: 12px;\n",
              "    }\n",
              "\n",
              "    .colab-df-convert {\n",
              "      background-color: #E8F0FE;\n",
              "      border: none;\n",
              "      border-radius: 50%;\n",
              "      cursor: pointer;\n",
              "      display: none;\n",
              "      fill: #1967D2;\n",
              "      height: 32px;\n",
              "      padding: 0 0 0 0;\n",
              "      width: 32px;\n",
              "    }\n",
              "\n",
              "    .colab-df-convert:hover {\n",
              "      background-color: #E2EBFA;\n",
              "      box-shadow: 0px 1px 2px rgba(60, 64, 67, 0.3), 0px 1px 3px 1px rgba(60, 64, 67, 0.15);\n",
              "      fill: #174EA6;\n",
              "    }\n",
              "\n",
              "    [theme=dark] .colab-df-convert {\n",
              "      background-color: #3B4455;\n",
              "      fill: #D2E3FC;\n",
              "    }\n",
              "\n",
              "    [theme=dark] .colab-df-convert:hover {\n",
              "      background-color: #434B5C;\n",
              "      box-shadow: 0px 1px 3px 1px rgba(0, 0, 0, 0.15);\n",
              "      filter: drop-shadow(0px 1px 2px rgba(0, 0, 0, 0.3));\n",
              "      fill: #FFFFFF;\n",
              "    }\n",
              "  </style>\n",
              "\n",
              "      <script>\n",
              "        const buttonEl =\n",
              "          document.querySelector('#df-93e78310-a263-4e90-aba6-073af1d6d04e button.colab-df-convert');\n",
              "        buttonEl.style.display =\n",
              "          google.colab.kernel.accessAllowed ? 'block' : 'none';\n",
              "\n",
              "        async function convertToInteractive(key) {\n",
              "          const element = document.querySelector('#df-93e78310-a263-4e90-aba6-073af1d6d04e');\n",
              "          const dataTable =\n",
              "            await google.colab.kernel.invokeFunction('convertToInteractive',\n",
              "                                                     [key], {});\n",
              "          if (!dataTable) return;\n",
              "\n",
              "          const docLinkHtml = 'Like what you see? Visit the ' +\n",
              "            '<a target=\"_blank\" href=https://colab.research.google.com/notebooks/data_table.ipynb>data table notebook</a>'\n",
              "            + ' to learn more about interactive tables.';\n",
              "          element.innerHTML = '';\n",
              "          dataTable['output_type'] = 'display_data';\n",
              "          await google.colab.output.renderOutput(dataTable, element);\n",
              "          const docLink = document.createElement('div');\n",
              "          docLink.innerHTML = docLinkHtml;\n",
              "          element.appendChild(docLink);\n",
              "        }\n",
              "      </script>\n",
              "    </div>\n",
              "  </div>\n",
              "  "
            ]
          },
          "metadata": {},
          "execution_count": 10
        }
      ]
    },
    {
      "cell_type": "code",
      "source": [
        "data1.shape"
      ],
      "metadata": {
        "colab": {
          "base_uri": "https://localhost:8080/"
        },
        "id": "zX7hVwtAku0L",
        "outputId": "d4cb0c7f-d804-4337-80e6-feb097862557"
      },
      "execution_count": null,
      "outputs": [
        {
          "output_type": "execute_result",
          "data": {
            "text/plain": [
              "(500, 9)"
            ]
          },
          "metadata": {},
          "execution_count": 12
        }
      ]
    },
    {
      "cell_type": "code",
      "source": [
        "data1.describe()"
      ],
      "metadata": {
        "colab": {
          "base_uri": "https://localhost:8080/",
          "height": 399
        },
        "id": "Auc3EuvYlLeT",
        "outputId": "e17cbd9b-3fb1-47a4-ce9d-d062fe54083c"
      },
      "execution_count": null,
      "outputs": [
        {
          "output_type": "execute_result",
          "data": {
            "text/plain": [
              "           Gender         Age  Annual Salary  Credit Card Debt  \\\n",
              "count  500.000000  500.000000     500.000000        500.000000   \n",
              "mean     0.506000   46.224000   62127.239608       9607.645049   \n",
              "std      0.500465    7.990339   11703.378228       3489.187973   \n",
              "min      0.000000   20.000000   20000.000000        100.000000   \n",
              "25%      0.000000   41.000000   54391.977195       7397.515792   \n",
              "50%      1.000000   46.000000   62915.497035       9655.035568   \n",
              "75%      1.000000   52.000000   70117.862005      11798.867487   \n",
              "max      1.000000   70.000000  100000.000000      20000.000000   \n",
              "\n",
              "            Net Worth  Car Purchase Amount  \n",
              "count      500.000000           500.000000  \n",
              "mean    431475.713625         44209.799218  \n",
              "std     173536.756340         10773.178744  \n",
              "min      20000.000000          9000.000000  \n",
              "25%     299824.195900         37629.896040  \n",
              "50%     426750.120650         43997.783390  \n",
              "75%     557324.478725         51254.709517  \n",
              "max    1000000.000000         80000.000000  "
            ],
            "text/html": [
              "\n",
              "  <div id=\"df-1b974547-f0c3-4298-a130-dfe2c7be40d3\">\n",
              "    <div class=\"colab-df-container\">\n",
              "      <div>\n",
              "<style scoped>\n",
              "    .dataframe tbody tr th:only-of-type {\n",
              "        vertical-align: middle;\n",
              "    }\n",
              "\n",
              "    .dataframe tbody tr th {\n",
              "        vertical-align: top;\n",
              "    }\n",
              "\n",
              "    .dataframe thead th {\n",
              "        text-align: right;\n",
              "    }\n",
              "</style>\n",
              "<table border=\"1\" class=\"dataframe\">\n",
              "  <thead>\n",
              "    <tr style=\"text-align: right;\">\n",
              "      <th></th>\n",
              "      <th>Gender</th>\n",
              "      <th>Age</th>\n",
              "      <th>Annual Salary</th>\n",
              "      <th>Credit Card Debt</th>\n",
              "      <th>Net Worth</th>\n",
              "      <th>Car Purchase Amount</th>\n",
              "    </tr>\n",
              "  </thead>\n",
              "  <tbody>\n",
              "    <tr>\n",
              "      <th>count</th>\n",
              "      <td>500.000000</td>\n",
              "      <td>500.000000</td>\n",
              "      <td>500.000000</td>\n",
              "      <td>500.000000</td>\n",
              "      <td>500.000000</td>\n",
              "      <td>500.000000</td>\n",
              "    </tr>\n",
              "    <tr>\n",
              "      <th>mean</th>\n",
              "      <td>0.506000</td>\n",
              "      <td>46.224000</td>\n",
              "      <td>62127.239608</td>\n",
              "      <td>9607.645049</td>\n",
              "      <td>431475.713625</td>\n",
              "      <td>44209.799218</td>\n",
              "    </tr>\n",
              "    <tr>\n",
              "      <th>std</th>\n",
              "      <td>0.500465</td>\n",
              "      <td>7.990339</td>\n",
              "      <td>11703.378228</td>\n",
              "      <td>3489.187973</td>\n",
              "      <td>173536.756340</td>\n",
              "      <td>10773.178744</td>\n",
              "    </tr>\n",
              "    <tr>\n",
              "      <th>min</th>\n",
              "      <td>0.000000</td>\n",
              "      <td>20.000000</td>\n",
              "      <td>20000.000000</td>\n",
              "      <td>100.000000</td>\n",
              "      <td>20000.000000</td>\n",
              "      <td>9000.000000</td>\n",
              "    </tr>\n",
              "    <tr>\n",
              "      <th>25%</th>\n",
              "      <td>0.000000</td>\n",
              "      <td>41.000000</td>\n",
              "      <td>54391.977195</td>\n",
              "      <td>7397.515792</td>\n",
              "      <td>299824.195900</td>\n",
              "      <td>37629.896040</td>\n",
              "    </tr>\n",
              "    <tr>\n",
              "      <th>50%</th>\n",
              "      <td>1.000000</td>\n",
              "      <td>46.000000</td>\n",
              "      <td>62915.497035</td>\n",
              "      <td>9655.035568</td>\n",
              "      <td>426750.120650</td>\n",
              "      <td>43997.783390</td>\n",
              "    </tr>\n",
              "    <tr>\n",
              "      <th>75%</th>\n",
              "      <td>1.000000</td>\n",
              "      <td>52.000000</td>\n",
              "      <td>70117.862005</td>\n",
              "      <td>11798.867487</td>\n",
              "      <td>557324.478725</td>\n",
              "      <td>51254.709517</td>\n",
              "    </tr>\n",
              "    <tr>\n",
              "      <th>max</th>\n",
              "      <td>1.000000</td>\n",
              "      <td>70.000000</td>\n",
              "      <td>100000.000000</td>\n",
              "      <td>20000.000000</td>\n",
              "      <td>1000000.000000</td>\n",
              "      <td>80000.000000</td>\n",
              "    </tr>\n",
              "  </tbody>\n",
              "</table>\n",
              "</div>\n",
              "      <button class=\"colab-df-convert\" onclick=\"convertToInteractive('df-1b974547-f0c3-4298-a130-dfe2c7be40d3')\"\n",
              "              title=\"Convert this dataframe to an interactive table.\"\n",
              "              style=\"display:none;\">\n",
              "        \n",
              "  <svg xmlns=\"http://www.w3.org/2000/svg\" height=\"24px\"viewBox=\"0 0 24 24\"\n",
              "       width=\"24px\">\n",
              "    <path d=\"M0 0h24v24H0V0z\" fill=\"none\"/>\n",
              "    <path d=\"M18.56 5.44l.94 2.06.94-2.06 2.06-.94-2.06-.94-.94-2.06-.94 2.06-2.06.94zm-11 1L8.5 8.5l.94-2.06 2.06-.94-2.06-.94L8.5 2.5l-.94 2.06-2.06.94zm10 10l.94 2.06.94-2.06 2.06-.94-2.06-.94-.94-2.06-.94 2.06-2.06.94z\"/><path d=\"M17.41 7.96l-1.37-1.37c-.4-.4-.92-.59-1.43-.59-.52 0-1.04.2-1.43.59L10.3 9.45l-7.72 7.72c-.78.78-.78 2.05 0 2.83L4 21.41c.39.39.9.59 1.41.59.51 0 1.02-.2 1.41-.59l7.78-7.78 2.81-2.81c.8-.78.8-2.07 0-2.86zM5.41 20L4 18.59l7.72-7.72 1.47 1.35L5.41 20z\"/>\n",
              "  </svg>\n",
              "      </button>\n",
              "      \n",
              "  <style>\n",
              "    .colab-df-container {\n",
              "      display:flex;\n",
              "      flex-wrap:wrap;\n",
              "      gap: 12px;\n",
              "    }\n",
              "\n",
              "    .colab-df-convert {\n",
              "      background-color: #E8F0FE;\n",
              "      border: none;\n",
              "      border-radius: 50%;\n",
              "      cursor: pointer;\n",
              "      display: none;\n",
              "      fill: #1967D2;\n",
              "      height: 32px;\n",
              "      padding: 0 0 0 0;\n",
              "      width: 32px;\n",
              "    }\n",
              "\n",
              "    .colab-df-convert:hover {\n",
              "      background-color: #E2EBFA;\n",
              "      box-shadow: 0px 1px 2px rgba(60, 64, 67, 0.3), 0px 1px 3px 1px rgba(60, 64, 67, 0.15);\n",
              "      fill: #174EA6;\n",
              "    }\n",
              "\n",
              "    [theme=dark] .colab-df-convert {\n",
              "      background-color: #3B4455;\n",
              "      fill: #D2E3FC;\n",
              "    }\n",
              "\n",
              "    [theme=dark] .colab-df-convert:hover {\n",
              "      background-color: #434B5C;\n",
              "      box-shadow: 0px 1px 3px 1px rgba(0, 0, 0, 0.15);\n",
              "      filter: drop-shadow(0px 1px 2px rgba(0, 0, 0, 0.3));\n",
              "      fill: #FFFFFF;\n",
              "    }\n",
              "  </style>\n",
              "\n",
              "      <script>\n",
              "        const buttonEl =\n",
              "          document.querySelector('#df-1b974547-f0c3-4298-a130-dfe2c7be40d3 button.colab-df-convert');\n",
              "        buttonEl.style.display =\n",
              "          google.colab.kernel.accessAllowed ? 'block' : 'none';\n",
              "\n",
              "        async function convertToInteractive(key) {\n",
              "          const element = document.querySelector('#df-1b974547-f0c3-4298-a130-dfe2c7be40d3');\n",
              "          const dataTable =\n",
              "            await google.colab.kernel.invokeFunction('convertToInteractive',\n",
              "                                                     [key], {});\n",
              "          if (!dataTable) return;\n",
              "\n",
              "          const docLinkHtml = 'Like what you see? Visit the ' +\n",
              "            '<a target=\"_blank\" href=https://colab.research.google.com/notebooks/data_table.ipynb>data table notebook</a>'\n",
              "            + ' to learn more about interactive tables.';\n",
              "          element.innerHTML = '';\n",
              "          dataTable['output_type'] = 'display_data';\n",
              "          await google.colab.output.renderOutput(dataTable, element);\n",
              "          const docLink = document.createElement('div');\n",
              "          docLink.innerHTML = docLinkHtml;\n",
              "          element.appendChild(docLink);\n",
              "        }\n",
              "      </script>\n",
              "    </div>\n",
              "  </div>\n",
              "  "
            ]
          },
          "metadata": {},
          "execution_count": 13
        }
      ]
    },
    {
      "cell_type": "code",
      "source": [
        "data1.info()"
      ],
      "metadata": {
        "colab": {
          "base_uri": "https://localhost:8080/"
        },
        "id": "W7t7uGaplWh2",
        "outputId": "3adfee57-85d1-42bd-f40c-e2b93a095b55"
      },
      "execution_count": null,
      "outputs": [
        {
          "output_type": "stream",
          "name": "stdout",
          "text": [
            "<class 'pandas.core.frame.DataFrame'>\n",
            "RangeIndex: 500 entries, 0 to 499\n",
            "Data columns (total 9 columns):\n",
            " #   Column               Non-Null Count  Dtype  \n",
            "---  ------               --------------  -----  \n",
            " 0   Customer Name        500 non-null    object \n",
            " 1   Customer e-mail      500 non-null    object \n",
            " 2   Country              500 non-null    object \n",
            " 3   Gender               500 non-null    int64  \n",
            " 4   Age                  500 non-null    int64  \n",
            " 5   Annual Salary        500 non-null    float64\n",
            " 6   Credit Card Debt     500 non-null    float64\n",
            " 7   Net Worth            500 non-null    float64\n",
            " 8   Car Purchase Amount  500 non-null    float64\n",
            "dtypes: float64(4), int64(2), object(3)\n",
            "memory usage: 35.3+ KB\n"
          ]
        }
      ]
    },
    {
      "cell_type": "code",
      "source": [
        "x=data1.drop(['Customer Name','Customer e-mail','Country','Car Purchase Amount'],axis=1).values\n",
        "x\n",
        "\n"
      ],
      "metadata": {
        "colab": {
          "base_uri": "https://localhost:8080/"
        },
        "id": "FUcJyYbklbYF",
        "outputId": "a517f5c3-3f6e-419e-c09f-23bb5f1ea952"
      },
      "execution_count": null,
      "outputs": [
        {
          "output_type": "execute_result",
          "data": {
            "text/plain": [
              "array([[0.00000000e+00, 4.20000000e+01, 6.28120930e+04, 1.16093809e+04,\n",
              "        2.38961250e+05],\n",
              "       [0.00000000e+00, 4.10000000e+01, 6.66468929e+04, 9.57295714e+03,\n",
              "        5.30973908e+05],\n",
              "       [1.00000000e+00, 4.30000000e+01, 5.37985511e+04, 1.11603551e+04,\n",
              "        6.38467177e+05],\n",
              "       ...,\n",
              "       [1.00000000e+00, 5.40000000e+01, 6.88887780e+04, 1.06116069e+04,\n",
              "        7.64531320e+05],\n",
              "       [1.00000000e+00, 5.90000000e+01, 4.98119906e+04, 1.40130345e+04,\n",
              "        3.37826638e+05],\n",
              "       [1.00000000e+00, 4.70000000e+01, 6.13706777e+04, 9.39134163e+03,\n",
              "        4.62946492e+05]])"
            ]
          },
          "metadata": {},
          "execution_count": 15
        }
      ]
    },
    {
      "cell_type": "code",
      "source": [
        "x.shape"
      ],
      "metadata": {
        "colab": {
          "base_uri": "https://localhost:8080/"
        },
        "id": "b77_snVBlsjw",
        "outputId": "0592cd9b-d946-4df6-d653-1130875abc66"
      },
      "execution_count": null,
      "outputs": [
        {
          "output_type": "execute_result",
          "data": {
            "text/plain": [
              "(500, 5)"
            ]
          },
          "metadata": {},
          "execution_count": 16
        }
      ]
    },
    {
      "cell_type": "code",
      "source": [
        "data1.describe()"
      ],
      "metadata": {
        "colab": {
          "base_uri": "https://localhost:8080/",
          "height": 399
        },
        "id": "Iwvbs3e1lyAT",
        "outputId": "cb6e40bd-96fd-4716-9883-d36f7817e77a"
      },
      "execution_count": null,
      "outputs": [
        {
          "output_type": "execute_result",
          "data": {
            "text/plain": [
              "           Gender         Age  Annual Salary  Credit Card Debt  \\\n",
              "count  500.000000  500.000000     500.000000        500.000000   \n",
              "mean     0.506000   46.224000   62127.239608       9607.645049   \n",
              "std      0.500465    7.990339   11703.378228       3489.187973   \n",
              "min      0.000000   20.000000   20000.000000        100.000000   \n",
              "25%      0.000000   41.000000   54391.977195       7397.515792   \n",
              "50%      1.000000   46.000000   62915.497035       9655.035568   \n",
              "75%      1.000000   52.000000   70117.862005      11798.867487   \n",
              "max      1.000000   70.000000  100000.000000      20000.000000   \n",
              "\n",
              "            Net Worth  Car Purchase Amount  \n",
              "count      500.000000           500.000000  \n",
              "mean    431475.713625         44209.799218  \n",
              "std     173536.756340         10773.178744  \n",
              "min      20000.000000          9000.000000  \n",
              "25%     299824.195900         37629.896040  \n",
              "50%     426750.120650         43997.783390  \n",
              "75%     557324.478725         51254.709517  \n",
              "max    1000000.000000         80000.000000  "
            ],
            "text/html": [
              "\n",
              "  <div id=\"df-37bb7a87-d0cf-42d3-a56e-5b30598f76a7\">\n",
              "    <div class=\"colab-df-container\">\n",
              "      <div>\n",
              "<style scoped>\n",
              "    .dataframe tbody tr th:only-of-type {\n",
              "        vertical-align: middle;\n",
              "    }\n",
              "\n",
              "    .dataframe tbody tr th {\n",
              "        vertical-align: top;\n",
              "    }\n",
              "\n",
              "    .dataframe thead th {\n",
              "        text-align: right;\n",
              "    }\n",
              "</style>\n",
              "<table border=\"1\" class=\"dataframe\">\n",
              "  <thead>\n",
              "    <tr style=\"text-align: right;\">\n",
              "      <th></th>\n",
              "      <th>Gender</th>\n",
              "      <th>Age</th>\n",
              "      <th>Annual Salary</th>\n",
              "      <th>Credit Card Debt</th>\n",
              "      <th>Net Worth</th>\n",
              "      <th>Car Purchase Amount</th>\n",
              "    </tr>\n",
              "  </thead>\n",
              "  <tbody>\n",
              "    <tr>\n",
              "      <th>count</th>\n",
              "      <td>500.000000</td>\n",
              "      <td>500.000000</td>\n",
              "      <td>500.000000</td>\n",
              "      <td>500.000000</td>\n",
              "      <td>500.000000</td>\n",
              "      <td>500.000000</td>\n",
              "    </tr>\n",
              "    <tr>\n",
              "      <th>mean</th>\n",
              "      <td>0.506000</td>\n",
              "      <td>46.224000</td>\n",
              "      <td>62127.239608</td>\n",
              "      <td>9607.645049</td>\n",
              "      <td>431475.713625</td>\n",
              "      <td>44209.799218</td>\n",
              "    </tr>\n",
              "    <tr>\n",
              "      <th>std</th>\n",
              "      <td>0.500465</td>\n",
              "      <td>7.990339</td>\n",
              "      <td>11703.378228</td>\n",
              "      <td>3489.187973</td>\n",
              "      <td>173536.756340</td>\n",
              "      <td>10773.178744</td>\n",
              "    </tr>\n",
              "    <tr>\n",
              "      <th>min</th>\n",
              "      <td>0.000000</td>\n",
              "      <td>20.000000</td>\n",
              "      <td>20000.000000</td>\n",
              "      <td>100.000000</td>\n",
              "      <td>20000.000000</td>\n",
              "      <td>9000.000000</td>\n",
              "    </tr>\n",
              "    <tr>\n",
              "      <th>25%</th>\n",
              "      <td>0.000000</td>\n",
              "      <td>41.000000</td>\n",
              "      <td>54391.977195</td>\n",
              "      <td>7397.515792</td>\n",
              "      <td>299824.195900</td>\n",
              "      <td>37629.896040</td>\n",
              "    </tr>\n",
              "    <tr>\n",
              "      <th>50%</th>\n",
              "      <td>1.000000</td>\n",
              "      <td>46.000000</td>\n",
              "      <td>62915.497035</td>\n",
              "      <td>9655.035568</td>\n",
              "      <td>426750.120650</td>\n",
              "      <td>43997.783390</td>\n",
              "    </tr>\n",
              "    <tr>\n",
              "      <th>75%</th>\n",
              "      <td>1.000000</td>\n",
              "      <td>52.000000</td>\n",
              "      <td>70117.862005</td>\n",
              "      <td>11798.867487</td>\n",
              "      <td>557324.478725</td>\n",
              "      <td>51254.709517</td>\n",
              "    </tr>\n",
              "    <tr>\n",
              "      <th>max</th>\n",
              "      <td>1.000000</td>\n",
              "      <td>70.000000</td>\n",
              "      <td>100000.000000</td>\n",
              "      <td>20000.000000</td>\n",
              "      <td>1000000.000000</td>\n",
              "      <td>80000.000000</td>\n",
              "    </tr>\n",
              "  </tbody>\n",
              "</table>\n",
              "</div>\n",
              "      <button class=\"colab-df-convert\" onclick=\"convertToInteractive('df-37bb7a87-d0cf-42d3-a56e-5b30598f76a7')\"\n",
              "              title=\"Convert this dataframe to an interactive table.\"\n",
              "              style=\"display:none;\">\n",
              "        \n",
              "  <svg xmlns=\"http://www.w3.org/2000/svg\" height=\"24px\"viewBox=\"0 0 24 24\"\n",
              "       width=\"24px\">\n",
              "    <path d=\"M0 0h24v24H0V0z\" fill=\"none\"/>\n",
              "    <path d=\"M18.56 5.44l.94 2.06.94-2.06 2.06-.94-2.06-.94-.94-2.06-.94 2.06-2.06.94zm-11 1L8.5 8.5l.94-2.06 2.06-.94-2.06-.94L8.5 2.5l-.94 2.06-2.06.94zm10 10l.94 2.06.94-2.06 2.06-.94-2.06-.94-.94-2.06-.94 2.06-2.06.94z\"/><path d=\"M17.41 7.96l-1.37-1.37c-.4-.4-.92-.59-1.43-.59-.52 0-1.04.2-1.43.59L10.3 9.45l-7.72 7.72c-.78.78-.78 2.05 0 2.83L4 21.41c.39.39.9.59 1.41.59.51 0 1.02-.2 1.41-.59l7.78-7.78 2.81-2.81c.8-.78.8-2.07 0-2.86zM5.41 20L4 18.59l7.72-7.72 1.47 1.35L5.41 20z\"/>\n",
              "  </svg>\n",
              "      </button>\n",
              "      \n",
              "  <style>\n",
              "    .colab-df-container {\n",
              "      display:flex;\n",
              "      flex-wrap:wrap;\n",
              "      gap: 12px;\n",
              "    }\n",
              "\n",
              "    .colab-df-convert {\n",
              "      background-color: #E8F0FE;\n",
              "      border: none;\n",
              "      border-radius: 50%;\n",
              "      cursor: pointer;\n",
              "      display: none;\n",
              "      fill: #1967D2;\n",
              "      height: 32px;\n",
              "      padding: 0 0 0 0;\n",
              "      width: 32px;\n",
              "    }\n",
              "\n",
              "    .colab-df-convert:hover {\n",
              "      background-color: #E2EBFA;\n",
              "      box-shadow: 0px 1px 2px rgba(60, 64, 67, 0.3), 0px 1px 3px 1px rgba(60, 64, 67, 0.15);\n",
              "      fill: #174EA6;\n",
              "    }\n",
              "\n",
              "    [theme=dark] .colab-df-convert {\n",
              "      background-color: #3B4455;\n",
              "      fill: #D2E3FC;\n",
              "    }\n",
              "\n",
              "    [theme=dark] .colab-df-convert:hover {\n",
              "      background-color: #434B5C;\n",
              "      box-shadow: 0px 1px 3px 1px rgba(0, 0, 0, 0.15);\n",
              "      filter: drop-shadow(0px 1px 2px rgba(0, 0, 0, 0.3));\n",
              "      fill: #FFFFFF;\n",
              "    }\n",
              "  </style>\n",
              "\n",
              "      <script>\n",
              "        const buttonEl =\n",
              "          document.querySelector('#df-37bb7a87-d0cf-42d3-a56e-5b30598f76a7 button.colab-df-convert');\n",
              "        buttonEl.style.display =\n",
              "          google.colab.kernel.accessAllowed ? 'block' : 'none';\n",
              "\n",
              "        async function convertToInteractive(key) {\n",
              "          const element = document.querySelector('#df-37bb7a87-d0cf-42d3-a56e-5b30598f76a7');\n",
              "          const dataTable =\n",
              "            await google.colab.kernel.invokeFunction('convertToInteractive',\n",
              "                                                     [key], {});\n",
              "          if (!dataTable) return;\n",
              "\n",
              "          const docLinkHtml = 'Like what you see? Visit the ' +\n",
              "            '<a target=\"_blank\" href=https://colab.research.google.com/notebooks/data_table.ipynb>data table notebook</a>'\n",
              "            + ' to learn more about interactive tables.';\n",
              "          element.innerHTML = '';\n",
              "          dataTable['output_type'] = 'display_data';\n",
              "          await google.colab.output.renderOutput(dataTable, element);\n",
              "          const docLink = document.createElement('div');\n",
              "          docLink.innerHTML = docLinkHtml;\n",
              "          element.appendChild(docLink);\n",
              "        }\n",
              "      </script>\n",
              "    </div>\n",
              "  </div>\n",
              "  "
            ]
          },
          "metadata": {},
          "execution_count": 18
        }
      ]
    },
    {
      "cell_type": "code",
      "source": [
        "data1.info()"
      ],
      "metadata": {
        "colab": {
          "base_uri": "https://localhost:8080/"
        },
        "id": "21Ox6P9gl133",
        "outputId": "d8ca7520-d8ea-4952-9867-15af694e960b"
      },
      "execution_count": null,
      "outputs": [
        {
          "output_type": "stream",
          "name": "stdout",
          "text": [
            "<class 'pandas.core.frame.DataFrame'>\n",
            "RangeIndex: 500 entries, 0 to 499\n",
            "Data columns (total 9 columns):\n",
            " #   Column               Non-Null Count  Dtype  \n",
            "---  ------               --------------  -----  \n",
            " 0   Customer Name        500 non-null    object \n",
            " 1   Customer e-mail      500 non-null    object \n",
            " 2   Country              500 non-null    object \n",
            " 3   Gender               500 non-null    int64  \n",
            " 4   Age                  500 non-null    int64  \n",
            " 5   Annual Salary        500 non-null    float64\n",
            " 6   Credit Card Debt     500 non-null    float64\n",
            " 7   Net Worth            500 non-null    float64\n",
            " 8   Car Purchase Amount  500 non-null    float64\n",
            "dtypes: float64(4), int64(2), object(3)\n",
            "memory usage: 35.3+ KB\n"
          ]
        }
      ]
    },
    {
      "cell_type": "code",
      "source": [
        "x=data1.drop(['Customer Name','Customer e-mail','Country','Car Purchase Amount'],axis=1).values\n",
        "x"
      ],
      "metadata": {
        "colab": {
          "base_uri": "https://localhost:8080/"
        },
        "id": "H1VHBqNSmA2W",
        "outputId": "a357725b-178c-49ab-d6e4-02730b4eea83"
      },
      "execution_count": null,
      "outputs": [
        {
          "output_type": "execute_result",
          "data": {
            "text/plain": [
              "array([[0.00000000e+00, 4.20000000e+01, 6.28120930e+04, 1.16093809e+04,\n",
              "        2.38961250e+05],\n",
              "       [0.00000000e+00, 4.10000000e+01, 6.66468929e+04, 9.57295714e+03,\n",
              "        5.30973908e+05],\n",
              "       [1.00000000e+00, 4.30000000e+01, 5.37985511e+04, 1.11603551e+04,\n",
              "        6.38467177e+05],\n",
              "       ...,\n",
              "       [1.00000000e+00, 5.40000000e+01, 6.88887780e+04, 1.06116069e+04,\n",
              "        7.64531320e+05],\n",
              "       [1.00000000e+00, 5.90000000e+01, 4.98119906e+04, 1.40130345e+04,\n",
              "        3.37826638e+05],\n",
              "       [1.00000000e+00, 4.70000000e+01, 6.13706777e+04, 9.39134163e+03,\n",
              "        4.62946492e+05]])"
            ]
          },
          "metadata": {},
          "execution_count": 20
        }
      ]
    },
    {
      "cell_type": "code",
      "source": [
        "x.shape"
      ],
      "metadata": {
        "colab": {
          "base_uri": "https://localhost:8080/"
        },
        "id": "q9kVoOVrmKOG",
        "outputId": "c37ff975-ec89-4ab9-9e52-2671f6dae9a1"
      },
      "execution_count": null,
      "outputs": [
        {
          "output_type": "execute_result",
          "data": {
            "text/plain": [
              "(500, 5)"
            ]
          },
          "metadata": {},
          "execution_count": 21
        }
      ]
    },
    {
      "cell_type": "code",
      "source": [
        "y=data1['Car Purchase Amount'].values\n",
        "y"
      ],
      "metadata": {
        "colab": {
          "base_uri": "https://localhost:8080/"
        },
        "id": "NU50nMbrmNMG",
        "outputId": "8a773a57-b60b-4b11-a848-f6714cddb9ca"
      },
      "execution_count": null,
      "outputs": [
        {
          "output_type": "execute_result",
          "data": {
            "text/plain": [
              "array([35321.45877, 45115.52566, 42925.70921, 67422.36313, 55915.46248,\n",
              "       56611.99784, 28925.70549, 47434.98265, 48013.6141 , 38189.50601,\n",
              "       59045.51309, 42288.81046, 28700.0334 , 49258.87571, 49510.03356,\n",
              "       53017.26723, 41814.72067, 43901.71244, 44633.99241, 54827.52403,\n",
              "       51130.95379, 43402.31525, 47240.86004, 46635.49432, 45078.40193,\n",
              "       44387.58412, 37161.55393, 49091.97185, 58350.31809, 43994.35972,\n",
              "       17584.56963, 44650.36073, 66363.89316, 53489.46214, 39810.34817,\n",
              "       51612.14311, 38978.67458, 10092.22509, 35928.52404, 54823.19221,\n",
              "       45805.67186, 41567.47033, 28031.20985, 27815.73813, 68678.4352 ,\n",
              "       68925.09447, 34215.7615 , 37843.46619, 37883.24231, 48734.35708,\n",
              "       27187.23914, 63738.39065, 48266.75516, 46381.13111, 31978.9799 ,\n",
              "       48100.29052, 47380.91224, 41425.00116, 38147.81018, 32737.80177,\n",
              "       37348.13737, 47483.85316, 49730.53339, 40093.61981, 42297.5062 ,\n",
              "       52954.93121, 48104.11184, 43680.91327, 52707.96816, 49392.8897 ,\n",
              "       30841.00154, 49373.37555, 41903.65171, 45058.8969 , 52991.52667,\n",
              "       50958.08115, 41357.17897, 44434.71917, 38502.42392, 41221.24918,\n",
              "       38399.46139, 41456.68097, 30394.82494, 42384.05128, 39002.0771 ,\n",
              "       19553.2739 , 45167.32542, 36019.9556 , 50937.93844, 12895.71468,\n",
              "       38955.21919, 51221.04249, 25971.95673, 60670.33672, 54075.12064,\n",
              "       40004.87142, 61593.52058, 39503.38829, 52474.71839, 42187.6828 ,\n",
              "       57441.44414, 22681.71667, 33640.73697, 31540.77868, 60461.24268,\n",
              "       45738.3343 , 34803.82395, 34642.6024 , 27586.71854, 54973.02495,\n",
              "       49142.51174, 58840.53964, 57306.32866, 51941.6756 , 30240.60975,\n",
              "       67120.89878, 42408.02625, 41451.71843, 42592.88647, 34521.17618,\n",
              "       42213.69644, 41913.53713, 59416.18101, 51402.61506, 54755.42038,\n",
              "       47143.44008, 64391.68906, 37252.55194, 52665.36511, 44001.20706,\n",
              "       51551.67997, 38243.66481, 39766.64804, 40077.57289, 33131.52734,\n",
              "       48622.66097, 47693.23482, 39410.4616 , 33428.40183, 32700.27871,\n",
              "       62864.43011, 29425.83001, 44418.60955, 36645.5609 , 53655.53859,\n",
              "       45977.12502, 38504.39444, 47935.9394 , 60222.22672, 38930.55234,\n",
              "       27810.21814, 47604.34591, 42356.6895 , 31300.54347, 42369.64247,\n",
              "       31837.22537, 26499.31418, 38172.83602, 39433.40631, 37714.31659,\n",
              "       57125.41541, 46453.34819, 43855.06077, 55592.70383, 42484.02283,\n",
              "       40879.19107, 20653.21409, 35438.80549, 36112.79346, 38182.30465,\n",
              "       41026.02421, 27889.95197, 43724.4896 , 57430.76903, 41104.07108,\n",
              "       49050.85378, 41265.52929, 64545.16339, 29052.09521, 30719.8156 ,\n",
              "       38763.11306, 39331.20127, 32608.45468, 58045.56257, 54387.27727,\n",
              "       36638.20688, 39522.13129, 42978.34626, 60865.76396, 46380.44732,\n",
              "       56579.90338, 42774.35579, 37879.65385, 45208.42539, 56229.4127 ,\n",
              "       50455.11935, 49721.31082, 31696.99679, 49220.0218 , 46188.83514,\n",
              "       36086.93161, 43264.04965, 40660.38317, 51683.60859, 44525.02085,\n",
              "       48518.90163, 45805.30588, 54850.38742, 32478.44758, 42209.28948,\n",
              "       55125.93237, 47984.42062, 43405.89086, 44577.44829, 37744.54285,\n",
              "       47805.25605, 44846.68557, 46643.26581, 56563.98675, 41673.44617,\n",
              "       61118.46947, 37303.56701, 46892.26617, 56457.74038, 45509.69732,\n",
              "       27625.44144, 46389.50237, 29002.05665, 51355.7106 , 42011.19965,\n",
              "       52654.40455, 44432.71747, 46054.60253, 58235.41454, 42990.29255,\n",
              "       50702.18103, 47009.57741, 49399.97041, 42997.16761, 44434.98419,\n",
              "       46325.50959, 46846.7305 , 56499.10202, 42773.75905, 52313.98392,\n",
              "       34139.6373 , 60763.24731, 66158.69494, 31215.6421 , 46135.27233,\n",
              "       56973.18105, 24184.07443, 49079.61942, 37093.92033, 43401.56612,\n",
              "       29092.1311 , 48349.16457, 33261.00057, 41327.16554, 49336.11628,\n",
              "       51405.55229, 31249.98803, 43598.96993, 48300.02057, 54013.47595,\n",
              "       38674.66038, 37076.82508, 37947.85125, 41320.07256, 66888.93694,\n",
              "       12536.93842, 39549.13039, 52709.08196, 53502.97742, 52116.90791,\n",
              "       38705.65839, 48025.02542, 59483.91183, 35911.64559, 41034.28343,\n",
              "       51730.17434, 53021.86074, 32828.03477, 29417.64694, 57461.51158,\n",
              "       50441.62427, 41575.34739, 46412.47781, 47610.11718, 70878.29664,\n",
              "       55543.38497, 53848.7555 , 39904.81613, 44736.41097, 46937.17422,\n",
              "       28440.81268, 38148.00163, 42747.53925, 29670.83337, 63038.20422,\n",
              "       63248.76188, 42321.56548, 44463.30502, 67092.23276, 22091.11839,\n",
              "       40022.17406, 56071.61377, 49442.12107, 42497.72862, 37084.77621,\n",
              "       51866.48719, 35716.31133, 39892.93343, 35781.16156, 42866.21274,\n",
              "       80000.     , 60526.97788, 59758.73247, 39606.24598, 58641.71051,\n",
              "       52983.89411, 50666.88173, 59625.02618, 22630.25982, 41137.89459,\n",
              "       53496.48183, 36543.93642, 43503.97349, 31146.71078, 31526.04931,\n",
              "       31083.70271, 45366.35963, 25252.93221, 39888.59789, 52240.72866,\n",
              "       39911.6116 , 45857.75365, 30826.10903, 39422.79389, 34678.83226,\n",
              "       23517.91983, 28733.68779, 59096.26978, 50188.86612, 35659.12237,\n",
              "       46398.35204, 32291.18978, 49079.29461, 49348.88394, 41427.59797,\n",
              "       24221.99937, 44424.07681, 60390.06616, 42793.9932 , 46935.72774,\n",
              "       58667.06865, 38042.80065, 39270.57909, 54606.18769, 39083.94268,\n",
              "       47984.12043, 46082.80993, 30964.07804, 35726.95299, 49065.1634 ,\n",
              "       48955.85816, 37183.10293, 46710.52519, 52889.56257, 29754.66271,\n",
              "       60960.83428, 39975.43302, 38545.80328, 56764.44728, 63079.84329,\n",
              "       55700.83389, 36367.18452, 52477.83479, 50296.67496, 37259.84386,\n",
              "       47715.96049, 29540.87013, 60567.18837, 36125.48846, 57303.87131,\n",
              "       51922.07691, 35848.82935, 42704.3221 , 55174.98946, 26599.90843,\n",
              "       53993.44322, 47970.76767, 43641.65727, 41679.7929 , 63140.05082,\n",
              "       30757.65726, 65592.22012, 37871.7082 , 42919.5196 , 22599.45863,\n",
              "       70598.96768, 43242.58224, 38138.57511, 30419.8    , 63868.94051,\n",
              "       45112.94547, 44361.87507, 19525.29827, 49991.60697, 61731.71426,\n",
              "       41769.38288, 46402.53583, 37376.63439, 33766.6413 , 30667.60927,\n",
              "       52056.41478, 30736.5798 , 39439.45349, 38174.87433, 40589.8625 ,\n",
              "       62028.71192, 48465.27211, 40095.0498 , 49568.47685, 31408.62631,\n",
              "       47719.47741, 35784.42411, 42905.53815, 48516.84335, 45593.6849 ,\n",
              "       32061.6467 , 32208.37522, 35475.00344, 29519.56184, 55420.56668,\n",
              "       42139.64528, 50539.90169, 34922.42846, 43898.2733 , 39135.03023,\n",
              "       41147.46679, 24134.59205, 42705.11311, 38901.60925, 28645.39425,\n",
              "       52150.41786, 66648.25077, 42909.27129, 49248.10595, 27303.17104,\n",
              "       47869.82593, 59984.16361, 45271.46081,  9000.     , 46012.10616,\n",
              "       32967.20191, 48785.15839, 45824.5656 , 40102.11417, 35457.1486 ,\n",
              "       29556.7932 , 38243.06228, 44430.63323, 51046.42226, 52570.36517,\n",
              "       61404.22578, 28463.64326, 27586.20078, 47979.48549, 28164.86039,\n",
              "       69669.47402, 48052.65091, 37364.23474, 44500.81936, 35139.24793,\n",
              "       55167.37361, 48383.69071, 35823.55471, 36517.70996, 53110.88052,\n",
              "       53049.44567, 21471.11367, 45015.67953, 55377.87697, 56510.13294,\n",
              "       47443.74443, 41489.64123, 32553.53423, 41984.62412, 59538.40327,\n",
              "       41352.47071, 52785.16947, 60117.67886, 47760.66427, 64188.26862,\n",
              "       48901.44342, 31491.41457, 64147.28888, 45442.15353, 45107.22566])"
            ]
          },
          "metadata": {},
          "execution_count": 22
        }
      ]
    },
    {
      "cell_type": "code",
      "source": [
        "np.mean(x,axis=0)\n"
      ],
      "metadata": {
        "colab": {
          "base_uri": "https://localhost:8080/"
        },
        "id": "rHh2KLw5mR-P",
        "outputId": "00e1dba3-dfff-4fed-91b5-b15ef7e9a356"
      },
      "execution_count": null,
      "outputs": [
        {
          "output_type": "execute_result",
          "data": {
            "text/plain": [
              "array([5.06000000e-01, 4.62240000e+01, 6.21272396e+04, 9.60764505e+03,\n",
              "       4.31475714e+05])"
            ]
          },
          "metadata": {},
          "execution_count": 23
        }
      ]
    },
    {
      "cell_type": "code",
      "source": [
        "#from sklearn.preprocessing import StandardScaler\n",
        "#scaler = StandardScaler()\n",
        "x_scaled=(x - np.mean(x,axis=0)) / np.std(x,axis=0)\n",
        "#x_scaled = scaler.fit_transform(x)\n"
      ],
      "metadata": {
        "id": "Rzcfh1xlmZ8X"
      },
      "execution_count": null,
      "outputs": []
    },
    {
      "cell_type": "code",
      "source": [
        "x_scaled"
      ],
      "metadata": {
        "colab": {
          "base_uri": "https://localhost:8080/"
        },
        "id": "7kc3P2UcmlNb",
        "outputId": "04974aa7-b9d4-4227-95b9-2358df409d39"
      },
      "execution_count": null,
      "outputs": [
        {
          "output_type": "execute_result",
          "data": {
            "text/plain": [
              "array([[-1.01207287, -0.52916784,  0.05857619,  0.57427133, -1.11046945],\n",
              "       [-1.01207287, -0.65444432,  0.38657041, -0.0099515 ,  0.57392937],\n",
              "       [ 0.98807114, -0.40389136, -0.71236095,  0.4454518 ,  1.19397625],\n",
              "       ...,\n",
              "       [ 0.98807114,  0.97414989,  0.57832106,  0.28802326,  1.92114437],\n",
              "       [ 0.98807114,  1.60053227, -1.05333541,  1.26384749, -0.54019026],\n",
              "       [ 0.98807114,  0.09721455, -0.06470949, -0.06205457,  0.18153098]])"
            ]
          },
          "metadata": {},
          "execution_count": 25
        }
      ]
    },
    {
      "cell_type": "code",
      "source": [
        "from sklearn.model_selection import train_test_split\n"
      ],
      "metadata": {
        "id": "d40nfZjZmoNA"
      },
      "execution_count": null,
      "outputs": []
    },
    {
      "cell_type": "code",
      "source": [
        "x_train,x_test,y_train,y_test=train_test_split(x_scaled,y,test_size=0.33)\n"
      ],
      "metadata": {
        "id": "trT4QpPfmtyZ"
      },
      "execution_count": null,
      "outputs": []
    },
    {
      "cell_type": "code",
      "source": [
        "x_test.shape\n"
      ],
      "metadata": {
        "colab": {
          "base_uri": "https://localhost:8080/"
        },
        "id": "PNUVa3kKmyI0",
        "outputId": "d034a10e-df11-4e1e-994f-91aaf1f222a0"
      },
      "execution_count": null,
      "outputs": [
        {
          "output_type": "execute_result",
          "data": {
            "text/plain": [
              "(165, 5)"
            ]
          },
          "metadata": {},
          "execution_count": 28
        }
      ]
    },
    {
      "cell_type": "code",
      "source": [
        "from sklearn.linear_model import LinearRegression"
      ],
      "metadata": {
        "id": "YyDXyI5Rm2BJ"
      },
      "execution_count": null,
      "outputs": []
    },
    {
      "cell_type": "code",
      "source": [
        "model=LinearRegression()\n",
        "\n"
      ],
      "metadata": {
        "id": "Y7lJ6MQhm8bp"
      },
      "execution_count": null,
      "outputs": []
    },
    {
      "cell_type": "code",
      "source": [
        "model.fit(x_train,y_train)"
      ],
      "metadata": {
        "colab": {
          "base_uri": "https://localhost:8080/"
        },
        "id": "y7ztveq3nDL7",
        "outputId": "0b37f3a0-a243-40a5-8761-d1a268a64bd0"
      },
      "execution_count": null,
      "outputs": [
        {
          "output_type": "execute_result",
          "data": {
            "text/plain": [
              "LinearRegression()"
            ]
          },
          "metadata": {},
          "execution_count": 32
        }
      ]
    },
    {
      "cell_type": "code",
      "source": [
        "model.coef_\n",
        "\n",
        "model.intercept_\n",
        "\n",
        "y_pred=model.predict(x_test)\n"
      ],
      "metadata": {
        "id": "D4nPkWpDnIvA"
      },
      "execution_count": null,
      "outputs": []
    },
    {
      "cell_type": "code",
      "source": [
        "from sklearn.metrics import r2_score\n",
        "r2_score(y_test,y_pred)\n"
      ],
      "metadata": {
        "colab": {
          "base_uri": "https://localhost:8080/"
        },
        "id": "ie28lRq0nSwQ",
        "outputId": "011bbb74-d1bb-4f75-aa0b-c77d7923f601"
      },
      "execution_count": null,
      "outputs": [
        {
          "output_type": "execute_result",
          "data": {
            "text/plain": [
              "0.9994565920675822"
            ]
          },
          "metadata": {},
          "execution_count": 34
        }
      ]
    },
    {
      "cell_type": "code",
      "source": [
        "import matplotlib.pyplot as plt\n",
        "plt.scatter(y_test,y_pred)"
      ],
      "metadata": {
        "colab": {
          "base_uri": "https://localhost:8080/",
          "height": 282
        },
        "id": "K60Dks_CnWfS",
        "outputId": "d69022f0-877e-483a-e947-c98cbd262d05"
      },
      "execution_count": null,
      "outputs": [
        {
          "output_type": "execute_result",
          "data": {
            "text/plain": [
              "<matplotlib.collections.PathCollection at 0x7fbd5a4d2c50>"
            ]
          },
          "metadata": {},
          "execution_count": 35
        },
        {
          "output_type": "display_data",
          "data": {
            "text/plain": [
              "<Figure size 432x288 with 1 Axes>"
            ],
            "image/png": "[encoded data removed]"
          },
          "metadata": {
            "needs_background": "light"
          }
        }
      ]
    },
    {
      "cell_type": "code",
      "source": [],
      "metadata": {
        "id": "tpon_nvBncsr"
      },
      "execution_count": null,
      "outputs": []
    }
  ]
}